{
 "cells": [
  {
   "cell_type": "markdown",
   "metadata": {},
   "source": [
    "# Parsing Model Parallelism Experiment Training Logs from DeepSpeed"
   ]
  },
  {
   "cell_type": "markdown",
   "metadata": {},
   "source": [
    "### Necessary Imports"
   ]
  },
  {
   "cell_type": "code",
   "execution_count": 1,
   "metadata": {},
   "outputs": [],
   "source": [
    "import logging\n",
    "from src.log_parser import parse_log_file\n",
    "from src.plotting import plot_smoothed_loss\n",
    "from src.stats_calculator import calculate_stats\n",
    "from src.constants import (\n",
    "    common_columns, common_data_types, common_regex_pattern,\n",
    "    pp_columns, pp_data_types, pp_regex_pattern\n",
    ")"
   ]
  },
  {
   "cell_type": "markdown",
   "metadata": {},
   "source": [
    "### GPT-2 Full Pretraining with Deepspeed using Data Parallelism\n",
    "Used 2 nodes with 1 P100 Each\n",
    "Here are the are the parsed training logs."
   ]
  },
  {
   "cell_type": "code",
   "execution_count": null,
   "metadata": {},
   "outputs": [],
   "source": [
    "# Process log files\n",
    "df = parse_log_file(\n",
    "    file_path='data/1k_DP/training_run.log',\n",
    "    regex_pattern=common_regex_pattern,\n",
    "    columns=common_columns,\n",
    "    data_types=common_data_types\n",
    ")\n",
    "df"
   ]
  },
  {
   "cell_type": "markdown",
   "metadata": {},
   "source": [
    "Key statistics about the training speed are logged below"
   ]
  },
  {
   "cell_type": "code",
   "execution_count": null,
   "metadata": {},
   "outputs": [],
   "source": [
    "# Calculate statistics\n",
    "logging.basicConfig(level=logging.INFO, format='%(levelname)s: %(message)s')\n",
    "stats = calculate_stats(df)\n",
    "logging.info(f\"Training Stats: {stats}\")"
   ]
  },
  {
   "cell_type": "markdown",
   "metadata": {},
   "source": [
    "Loss Curve"
   ]
  },
  {
   "cell_type": "code",
   "execution_count": null,
   "metadata": {},
   "outputs": [],
   "source": [
    "plot_smoothed_loss(\n",
    "    dfs=[(df, \"DP\")],\n",
    "    title=\"DeepSpeed GPT-2 Full Pre-Training\",\n",
    "    smoothing_factor=0.6,\n",
    "    display=True\n",
    ")"
   ]
  },
  {
   "cell_type": "markdown",
   "metadata": {},
   "source": [
    "### Ablation Study of different Types of Model Parallelism"
   ]
  },
  {
   "cell_type": "markdown",
   "metadata": {},
   "source": [
    "Parsing data log and log training speed metrics"
   ]
  },
  {
   "cell_type": "code",
   "execution_count": null,
   "metadata": {},
   "outputs": [],
   "source": [
    "df_DP = parse_log_file(\n",
    "    file_path='data/100_DP/training_run.log',\n",
    "    regex_pattern=common_regex_pattern,\n",
    "    columns=common_columns,\n",
    "    data_types=common_data_types\n",
    ")\n",
    "\n",
    "df_TP = parse_log_file(\n",
    "    file_path='data/100_DP_TP/training_run.log',\n",
    "    regex_pattern=common_regex_pattern,\n",
    "    columns=common_columns,\n",
    "    data_types=common_data_types\n",
    ")\n",
    "\n",
    "df_PP = parse_log_file(\n",
    "    file_path='data/100_DP_PP/training_run.log',\n",
    "    regex_pattern=pp_regex_pattern,\n",
    "    columns=pp_columns,\n",
    "    data_types=pp_data_types\n",
    ")\n",
    "\n",
    "# Calculate statistics\n",
    "stats_DP = calculate_stats(df_DP)\n",
    "stats_TP = calculate_stats(df_TP)\n",
    "stats_PP = calculate_stats(df_PP)\n",
    "\n",
    "logging.basicConfig(level=logging.INFO, format='%(levelname)s: %(message)s')\n",
    "logging.info(f\"DP Stats: {stats_DP}\")\n",
    "logging.info(f\"TP Stats: {stats_TP}\")\n",
    "logging.info(f\"PP Stats: {stats_PP}\")"
   ]
  },
  {
   "cell_type": "markdown",
   "metadata": {},
   "source": [
    "Training Losses Using DP=2, TP=2, and PP = 2"
   ]
  },
  {
   "cell_type": "code",
   "execution_count": null,
   "metadata": {},
   "outputs": [],
   "source": [
    "# Plot smoothed loss\n",
    "dfs_to_plot = [\n",
    "    (df_PP, \"PP Only\"),\n",
    "    (df_DP, \"DP Only\"),\n",
    "    (df_TP, \"TP Only\")\n",
    "]\n",
    "\n",
    "plot_smoothed_loss(\n",
    "    dfs=dfs_to_plot,\n",
    "    title=\"Ablation Study of Model Parallelism on Training Loss\",\n",
    "    smoothing_factor=0.6,\n",
    "    display=True\n",
    ")"
   ]
  }
 ],
 "metadata": {
  "kernelspec": {
   "display_name": "EvalReproduction",
   "language": "python",
   "name": "python3"
  },
  "language_info": {
   "codemirror_mode": {
    "name": "ipython",
    "version": 3
   },
   "file_extension": ".py",
   "mimetype": "text/x-python",
   "name": "python",
   "nbconvert_exporter": "python",
   "pygments_lexer": "ipython3",
   "version": "3.11.10"
  }
 },
 "nbformat": 4,
 "nbformat_minor": 2
}
